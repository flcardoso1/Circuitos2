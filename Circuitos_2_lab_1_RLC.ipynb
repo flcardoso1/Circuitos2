{
 "cells": [
  {
   "cell_type": "code",
   "execution_count": 1,
   "metadata": {},
   "outputs": [],
   "source": [
    "###########################################################\n",
    "# Programa: Circuitos_2_lab_1_RLC\n",
    "# Data criação: 12/03/2021; Data ultima comp: 12/03/2021 \n",
    "# Autor: Fernando Cardoso ; Versão 1.0\n",
    "# Descrição: O programa deve calcular as respostas de \n",
    "#            frequencia de um RLC\n",
    "# Modificações: \n",
    "###########################################################\n",
    "################ Declaração das biblioteca#################\n",
    "import pandas as pd \n",
    "from pandas import DataFrame\n",
    "import matplotlib.pyplot as plt\n",
    "import numpy as np\n",
    "import math as mt\n",
    "from datetime import datetime"
   ]
  },
  {
   "cell_type": "code",
   "execution_count": 2,
   "metadata": {},
   "outputs": [],
   "source": [
    "################ Declaração das definições#################\n",
    "R=1000                                   #definir o valor da resistencia em ohms\n",
    "L=1                                      #definir o valor da indutância em H\n",
    "C=0.1*10**(-6)                           #definir o valor da capacitancia em F\n",
    "A=15.00                                  #definir o valor da amplitude em V\n",
    "numero=7                                 #nuemro de frequencias \n",
    "lista=[0.0]*numero                       #arrys de zeros\n",
    "V_R=np.array(lista)                      #tensao sobre o resistor\n",
    "fase_R=np.array(lista)                   #fase sobre o Resistor\n",
    "V_L=np.array(lista)                      #tensao sobre o indutor\n",
    "fase_L=np.array(lista)                   #fase sobre o indutor  \n",
    "V_C=np.array(lista)                      #tensao sobre o capacitor\n",
    "fase_C=np.array(lista)                   #fase sobre o capacitor\n",
    "Z=np.array(lista)                        #impedancia\n",
    "Z_complex=np.array(lista)                #parte complexa da impedancia\n",
    "fase_Z=np.array(lista)                   #fase da impedancia   \n",
    "impedancia=[0]*numero                    #objeto para concatenar as strings\n",
    "I=np.array(lista)                        #corrente"
   ]
  },
  {
   "cell_type": "code",
   "execution_count": 3,
   "metadata": {},
   "outputs": [],
   "source": [
    "############ Calculo dos parametros naturais #############\n",
    "w0=mt.sqrt(1/(L*C))\n",
    "g=R/(L*2*w0)\n",
    "w=np.array([0.2,0.5,0.75,1,1.5,2,5])*w0  # os percentuais da frequencia natural"
   ]
  },
  {
   "cell_type": "code",
   "execution_count": 4,
   "metadata": {},
   "outputs": [],
   "source": [
    "#################### Definição as FT  #####################\n",
    "def H_R(w):\n",
    "    H=(2*g*w0*w/mt.sqrt(mt.pow(mt.pow(w0,2)-mt.pow(w,2),2)+mt.pow(2*g*w0*w,2)))\n",
    "    return H\n",
    "def H_C(w):\n",
    "    H=(mt.pow(w0,2)/mt.sqrt(mt.pow(mt.pow(w0,2)-mt.pow(w,2),2)+mt.pow(2*g*w0*w,2)))\n",
    "    return H\n",
    "def H_L(w):\n",
    "    H=(mt.pow(w,2)/mt.sqrt(mt.pow(mt.pow(w0,2)-mt.pow(w,2),2)+mt.pow(2*g*w0*w,2)))\n",
    "    return H\n",
    "\n",
    "def theta_R(w):\n",
    "    theta=np.arctan((mt.pow(w0,2)-mt.pow(w,2))/(2*g*w0*w))*360/(2*np.pi)\n",
    "    return theta\n",
    "def theta_C(w):\n",
    "    theta=-np.arctan((2*g*w0*w)/(mt.pow(w0,2)-mt.pow(w,2)))*360/(2*np.pi)\n",
    "    return theta\n",
    "def theta_L(w):\n",
    "    theta=np.arctan((2*g*w0*w)/(mt.pow(w0,2)-mt.pow(w,2)))*360/(2*np.pi)\n",
    "    return theta"
   ]
  },
  {
   "cell_type": "code",
   "execution_count": 5,
   "metadata": {},
   "outputs": [],
   "source": [
    "################## Calculo das amplitudes ###################\n",
    "for i in range(0,numero):\n",
    "    V_R[i]=round(H_R(w[i])*A,2)\n",
    "    fase_R[i]=round(theta_R(w[i]),2)\n",
    "    V_L[i]=round(H_L(w[i])*A,2)\n",
    "    fase_L[i]=round(fase_R[i]+90,2)\n",
    "    V_C[i]=round(H_C(w[i])*A,2)\n",
    "    fase_C[i]=round(fase_R[i]-90,2)\n",
    "    I[i]=round(V_R[i]*1000/R,2)\n",
    "    Z[i]=round(R/H_R(w[i])/1000,2)\n",
    "    fase_Z[i]=round(-fase_R[i],2)\n",
    "    Z_complex[i]=round(Z[i]*np.sin(2*np.pi*fase_R[i]/360),2)\n",
    "    #w[i]=mt.floor(w[i])\n",
    "    w[i]=round(w[i],2)\n",
    "    impedancia[i]=str(Z_complex[i])+'j+'+str(1)\n",
    "    #print(\"{:.2f}\".format(w[i]),V_R[i],fase_R[i],V_L[i],fase_L[i],V_C[i],fase_C[i])"
   ]
  },
  {
   "cell_type": "code",
   "execution_count": 6,
   "metadata": {},
   "outputs": [],
   "source": [
    "now = datetime.now()\n",
    "# dd/mm/YY H:M:S\n",
    "dt_string = now.strftime(\"%d_%m_%Y_%H_%M_%S%MS\")"
   ]
  },
  {
   "cell_type": "code",
   "execution_count": 7,
   "metadata": {},
   "outputs": [],
   "source": [
    "df=pd.DataFrame(list(zip(w,V_R,fase_R,V_L,fase_L,V_C,fase_C,I,impedancia,Z,fase_Z)),\n",
    "                columns=['\\u03C9','V_R','fase_R','V_L','fase_L','V_C',\n",
    "                         'fase_C','I(mA)','R+Xj(K\\u03A9)','Z','fase_Z(K\\u03A9)'])\n",
    "df.style.hide_index()\n",
    "df\n",
    "df.to_csv ('d:\\RLC_'+dt_string+'.csv', index = False, header=True,sep ='\\t')\n"
   ]
  },
  {
   "cell_type": "code",
   "execution_count": 8,
   "metadata": {
    "scrolled": true
   },
   "outputs": [
    {
     "data": {
      "image/png": "[encoded data removed]",
      "text/plain": [
       "<Figure size 432x288 with 2 Axes>"
      ]
     },
     "metadata": {
      "needs_background": "light"
     },
     "output_type": "display_data"
    }
   ],
   "source": [
    "fig = plt.figure()\n",
    "ax = fig.add_subplot(1, 1, 1)\n",
    "plt.xlabel('\\u03C9(rad/s)'             ##### etiqueta_eixo_x\n",
    "           ,fontsize=12                ##### Fonte_do_eixo_x\n",
    "          )                           \n",
    "plt.ylabel('Impedâmcia (\\u03A9)'       ##### etiqueta_eixo_y\n",
    "           ,fontsize=12                ##### Fonte_do_eixo_y\n",
    "          )\n",
    "\n",
    "ax.plot(w,Z                            ##### cor do eixo (https://matplotlib.org/3.2.1/api/_as_gen/matplotlib.axes.Axes.plot.html)\n",
    "        ,'b'\n",
    "        ,label='Impedância'            ##### etiqueta serie de dados\n",
    "        ,markersize=5                  ##### tamanho do marcador\n",
    "        ,marker=\".\"                    ##### tipo do marcador (https://matplotlib.org/3.2.1/api/_as_gen/matplotlib.axes.Axes.plot.html)\n",
    "       )\n",
    "ax2=ax.twinx()\n",
    "ax2.plot(w,fase_Z                      ##### cor do eixo (https://matplotlib.org/3.2.1/api/_as_gen/matplotlib.axes.Axes.plot.html)\n",
    "        ,'r'     \n",
    "        ,label='fase'                  ##### etiqueta serie de dados\n",
    "        ,markersize=5                  ##### tamanho do marcador\n",
    "        ,marker=\".\"                    ##### tipo do marcador (https://matplotlib.org/3.2.1/api/_as_gen/matplotlib.axes.Axes.plot.html)\n",
    "       )\n",
    "ax2.set_ylabel(\"fase\",fontsize=12)\n",
    "ax.legend(loc='upper left',            ##### ativa as legendas\n",
    "          bbox_to_anchor=(1.15, 0.5)) \n",
    "ax2.legend(loc='lower left',           ##### ativa as legendas\n",
    "          bbox_to_anchor=(1.15, 0.5)) \n",
    "plt.grid()\n",
    "plt.show() "
   ]
  },
  {
   "cell_type": "code",
   "execution_count": 337,
   "metadata": {},
   "outputs": [
    {
     "ename": "SyntaxError",
     "evalue": "can't assign to operator (<ipython-input-337-b8ff3cc38318>, line 7)",
     "output_type": "error",
     "traceback": [
      "\u001b[1;36m  File \u001b[1;32m\"<ipython-input-337-b8ff3cc38318>\"\u001b[1;36m, line \u001b[1;32m7\u001b[0m\n\u001b[1;33m    medidas_Z[i]=R*medidas_V=[i]/medidas_V_R=[i]\u001b[0m\n\u001b[1;37m                ^\u001b[0m\n\u001b[1;31mSyntaxError\u001b[0m\u001b[1;31m:\u001b[0m can't assign to operator\n"
     ]
    }
   ],
   "source": [
    "medidas_V_R=[]\n",
    "medidas_V=[]\n",
    "medidas_Z=[0.0]*numero\n",
    "medidas_fase_R=[]\n",
    "medidas_fase_Z=[]\n",
    "for i in range(0,numero):\n",
    "    medidas_Z[i]=R*medidas_V=[i]/medidas_V_R=[i]\n",
    "    medidas_fase_Z[i]=-medidas_fase_R[i]\n"
   ]
  },
  {
   "cell_type": "code",
   "execution_count": 338,
   "metadata": {},
   "outputs": [
    {
     "ename": "NameError",
     "evalue": "name 'medidas_Z' is not defined",
     "output_type": "error",
     "traceback": [
      "\u001b[1;31m---------------------------------------------------------------------------\u001b[0m",
      "\u001b[1;31mNameError\u001b[0m                                 Traceback (most recent call last)",
      "\u001b[1;32m<ipython-input-338-99cb04ccfe32>\u001b[0m in \u001b[0;36m<module>\u001b[1;34m\u001b[0m\n\u001b[0;32m      8\u001b[0m           )\n\u001b[0;32m      9\u001b[0m \u001b[1;33m\u001b[0m\u001b[0m\n\u001b[1;32m---> 10\u001b[1;33m ax.plot(w,medidas_Z                                              ##### cor do eixo (https://matplotlib.org/3.2.1/api/_as_gen/matplotlib.axes.Axes.plot.html)\n\u001b[0m\u001b[0;32m     11\u001b[0m         \u001b[1;33m,\u001b[0m\u001b[1;34m'b'\u001b[0m\u001b[1;33m\u001b[0m\u001b[1;33m\u001b[0m\u001b[0m\n\u001b[0;32m     12\u001b[0m         \u001b[1;33m,\u001b[0m\u001b[0mlabel\u001b[0m\u001b[1;33m=\u001b[0m\u001b[1;34m'Impedância'\u001b[0m                             \u001b[1;31m##### etiqueta serie de dados\u001b[0m\u001b[1;33m\u001b[0m\u001b[1;33m\u001b[0m\u001b[0m\n",
      "\u001b[1;31mNameError\u001b[0m: name 'medidas_Z' is not defined"
     ]
    },
    {
     "data": {
      "image/png": "[encoded data removed]",
      "text/plain": [
       "<Figure size 432x288 with 1 Axes>"
      ]
     },
     "metadata": {
      "needs_background": "light"
     },
     "output_type": "display_data"
    }
   ],
   "source": [
    "fig = plt.figure()\n",
    "ax = fig.add_subplot(1, 1, 1)\n",
    "plt.xlabel('\\u03C9(rad/s)'                                              ##### etiqueta_eixo_x\n",
    "           ,fontsize=12                                    ##### Fonte_do_eixo_x\n",
    "          )                           \n",
    "plt.ylabel('Impedâmcia (\\u03A9)'                                ##### etiqueta_eixo_y\n",
    "           ,fontsize=12                                    ##### Fonte_do_eixo_y\n",
    "          )\n",
    "\n",
    "ax.plot(w,medidas_Z                                              ##### cor do eixo (https://matplotlib.org/3.2.1/api/_as_gen/matplotlib.axes.Axes.plot.html)\n",
    "        ,'b'\n",
    "        ,label='Impedância'                             ##### etiqueta serie de dados\n",
    "        ,markersize=5                                      ##### tamanho do marcador\n",
    "        ,marker=\".\"                                        ##### tipo do marcador (https://matplotlib.org/3.2.1/api/_as_gen/matplotlib.axes.Axes.plot.html)\n",
    "       )\n",
    "ax2=ax.twinx()\n",
    "ax2.plot(w,medidas_fase_Z                                              ##### cor do eixo (https://matplotlib.org/3.2.1/api/_as_gen/matplotlib.axes.Axes.plot.html)\n",
    "        ,'r'\n",
    "        ,label='fase'                             ##### etiqueta serie de dados\n",
    "        ,markersize=5                                      ##### tamanho do marcador\n",
    "        ,marker=\".\"                                        ##### tipo do marcador (https://matplotlib.org/3.2.1/api/_as_gen/matplotlib.axes.Axes.plot.html)\n",
    "       )\n",
    "ax2.set_ylabel(\"fase\",fontsize=12)\n",
    "ax.legend(loc='upper left',                               ##### ativa as legendas\n",
    "          bbox_to_anchor=(1.15, 0.5)) \n",
    "ax2.legend(loc='lower left',                               ##### ativa as legendas\n",
    "          bbox_to_anchor=(1.15, 0.5)) \n",
    "plt.grid()\n",
    "plt.show() "
   ]
  }
 ],
 "metadata": {
  "kernelspec": {
   "display_name": "Python 3",
   "language": "python",
   "name": "python3"
  },
  "language_info": {
   "codemirror_mode": {
    "name": "ipython",
    "version": 3
   },
   "file_extension": ".py",
   "mimetype": "text/x-python",
   "name": "python",
   "nbconvert_exporter": "python",
   "pygments_lexer": "ipython3",
   "version": "3.7.6"
  }
 },
 "nbformat": 4,
 "nbformat_minor": 4
}
