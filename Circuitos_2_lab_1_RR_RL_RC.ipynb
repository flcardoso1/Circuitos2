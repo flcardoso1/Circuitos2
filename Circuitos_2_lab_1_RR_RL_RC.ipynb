{
 "cells": [
  {
   "cell_type": "code",
   "execution_count": 1,
   "metadata": {},
   "outputs": [],
   "source": [
    "###########################################################\n",
    "# Programa: Circuitos_2_lab_1_RR_RL_RC\n",
    "# Data criação: 12/03/2021; Data ultima comp: 12/03/2021 \n",
    "# Autor: Fernando Cardoso ; Versão 1.0\n",
    "# Descrição: O programa deve calcular as respostas de \n",
    "#            frequencia dos circuitos RR RC e RL\n",
    "# Modificações: \n",
    "###########################################################\n",
    "################ Declaração das biblioteca#################\n",
    "import pandas as pd \n",
    "from pandas import DataFrame\n",
    "import matplotlib.pyplot as plt\n",
    "import numpy as np\n",
    "import math as mt"
   ]
  },
  {
   "cell_type": "code",
   "execution_count": 2,
   "metadata": {},
   "outputs": [],
   "source": [
    "################ Declaração das definições#################\n",
    "R1=1000                                  #definir o valor da resistencia em ohms\n",
    "R2=1000                                  #definir o valor da resistencia em ohms\n",
    "L=1                                      #definir o valor da indutância em H\n",
    "C=0.1*10**(-6)                           #definir o valor da capacitancia em F\n",
    "A=15.00                                  #definir o valor da amplitude em V\n",
    "w=2*np.pi*1000"
   ]
  },
  {
   "cell_type": "code",
   "execution_count": 3,
   "metadata": {},
   "outputs": [],
   "source": [
    "################ Circuito RR #################\n",
    "V_0_RR=round((R1/(R1+R2))*A,2)"
   ]
  },
  {
   "cell_type": "code",
   "execution_count": 4,
   "metadata": {},
   "outputs": [],
   "source": [
    "################ Circuito RC #################\n",
    "V_0_RC=round((w*R1*C*A)/(mt.sqrt(1+mt.pow(w*R1*C,2))),2)\n",
    "fase_RC=round(np.arctan(1/(w*R1*C))*360/(2*np.pi),2)"
   ]
  },
  {
   "cell_type": "code",
   "execution_count": 5,
   "metadata": {},
   "outputs": [],
   "source": [
    "################ Circuito RL #################\n",
    "V_0_RL=round((R1*A)/(mt.sqrt(mt.pow(R1,2)+mt.pow(w*L,2))),2)\n",
    "fase_RL=round(np.arctan(w*L/R1)*360/(2*np.pi),2)"
   ]
  },
  {
   "cell_type": "code",
   "execution_count": 6,
   "metadata": {},
   "outputs": [
    {
     "data": {
      "text/html": [
       "<div>\n",
       "<style scoped>\n",
       "    .dataframe tbody tr th:only-of-type {\n",
       "        vertical-align: middle;\n",
       "    }\n",
       "\n",
       "    .dataframe tbody tr th {\n",
       "        vertical-align: top;\n",
       "    }\n",
       "\n",
       "    .dataframe thead th {\n",
       "        text-align: right;\n",
       "    }\n",
       "</style>\n",
       "<table border=\"1\" class=\"dataframe\">\n",
       "  <thead>\n",
       "    <tr style=\"text-align: right;\">\n",
       "      <th></th>\n",
       "      <th></th>\n",
       "      <th>V0(V)</th>\n",
       "      <th>fase(°)</th>\n",
       "    </tr>\n",
       "  </thead>\n",
       "  <tbody>\n",
       "    <tr>\n",
       "      <th>0</th>\n",
       "      <td>Circuito RR</td>\n",
       "      <td>7.50</td>\n",
       "      <td>0.00</td>\n",
       "    </tr>\n",
       "    <tr>\n",
       "      <th>1</th>\n",
       "      <td>circuito RC</td>\n",
       "      <td>7.98</td>\n",
       "      <td>57.86</td>\n",
       "    </tr>\n",
       "    <tr>\n",
       "      <th>2</th>\n",
       "      <td>Circuito RL</td>\n",
       "      <td>2.36</td>\n",
       "      <td>80.96</td>\n",
       "    </tr>\n",
       "  </tbody>\n",
       "</table>\n",
       "</div>"
      ],
      "text/plain": [
       "                V0(V)  fase(°)\n",
       "0  Circuito RR   7.50     0.00\n",
       "1  circuito RC   7.98    57.86\n",
       "2  Circuito RL   2.36    80.96"
      ]
     },
     "execution_count": 6,
     "metadata": {},
     "output_type": "execute_result"
    }
   ],
   "source": [
    "lista_nomes=['Circuito RR','circuito RC','Circuito RL']\n",
    "lista_tensao=[V_0_RR,V_0_RC,V_0_RL]\n",
    "lista_angulo=[0,fase_RC,fase_RL]\n",
    "df=pd.DataFrame(list(zip(lista_nomes,lista_tensao,lista_angulo)),\n",
    "                columns=['','V0(V)','fase(°)'])\n",
    "df.style.hide_index()\n",
    "df"
   ]
  }
 ],
 "metadata": {
  "kernelspec": {
   "display_name": "Python 3",
   "language": "python",
   "name": "python3"
  },
  "language_info": {
   "codemirror_mode": {
    "name": "ipython",
    "version": 3
   },
   "file_extension": ".py",
   "mimetype": "text/x-python",
   "name": "python",
   "nbconvert_exporter": "python",
   "pygments_lexer": "ipython3",
   "version": "3.7.6"
  }
 },
 "nbformat": 4,
 "nbformat_minor": 4
}
